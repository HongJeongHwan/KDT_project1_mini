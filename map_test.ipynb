{
 "cells": [
  {
   "cell_type": "code",
   "execution_count": 103,
   "metadata": {},
   "outputs": [
    {
     "data": {
      "text/html": [
       "<div>\n",
       "<style scoped>\n",
       "    .dataframe tbody tr th:only-of-type {\n",
       "        vertical-align: middle;\n",
       "    }\n",
       "\n",
       "    .dataframe tbody tr th {\n",
       "        vertical-align: top;\n",
       "    }\n",
       "\n",
       "    .dataframe thead th {\n",
       "        text-align: right;\n",
       "    }\n",
       "</style>\n",
       "<table border=\"1\" class=\"dataframe\">\n",
       "  <thead>\n",
       "    <tr style=\"text-align: right;\">\n",
       "      <th></th>\n",
       "      <th>lat</th>\n",
       "      <th>lon</th>\n",
       "    </tr>\n",
       "    <tr>\n",
       "      <th>기준_날짜</th>\n",
       "      <th></th>\n",
       "      <th></th>\n",
       "    </tr>\n",
       "  </thead>\n",
       "  <tbody>\n",
       "    <tr>\n",
       "      <th>20231201</th>\n",
       "      <td>37.529900</td>\n",
       "      <td>126.876541</td>\n",
       "    </tr>\n",
       "    <tr>\n",
       "      <th>20231201</th>\n",
       "      <td>37.530251</td>\n",
       "      <td>126.879303</td>\n",
       "    </tr>\n",
       "    <tr>\n",
       "      <th>20231201</th>\n",
       "      <td>37.560207</td>\n",
       "      <td>126.824142</td>\n",
       "    </tr>\n",
       "    <tr>\n",
       "      <th>20231201</th>\n",
       "      <td>37.558311</td>\n",
       "      <td>126.826523</td>\n",
       "    </tr>\n",
       "    <tr>\n",
       "      <th>20231201</th>\n",
       "      <td>37.558949</td>\n",
       "      <td>126.837173</td>\n",
       "    </tr>\n",
       "    <tr>\n",
       "      <th>...</th>\n",
       "      <td>...</td>\n",
       "      <td>...</td>\n",
       "    </tr>\n",
       "    <tr>\n",
       "      <th>20231201</th>\n",
       "      <td>37.527157</td>\n",
       "      <td>126.931900</td>\n",
       "    </tr>\n",
       "    <tr>\n",
       "      <th>20231201</th>\n",
       "      <td>37.572563</td>\n",
       "      <td>126.816422</td>\n",
       "    </tr>\n",
       "    <tr>\n",
       "      <th>20231201</th>\n",
       "      <td>37.552914</td>\n",
       "      <td>126.836571</td>\n",
       "    </tr>\n",
       "    <tr>\n",
       "      <th>20231201</th>\n",
       "      <td>37.567284</td>\n",
       "      <td>126.818275</td>\n",
       "    </tr>\n",
       "    <tr>\n",
       "      <th>20231201</th>\n",
       "      <td>37.529163</td>\n",
       "      <td>126.872749</td>\n",
       "    </tr>\n",
       "  </tbody>\n",
       "</table>\n",
       "<p>151 rows × 2 columns</p>\n",
       "</div>"
      ],
      "text/plain": [
       "                lat         lon\n",
       "기준_날짜                          \n",
       "20231201  37.529900  126.876541\n",
       "20231201  37.530251  126.879303\n",
       "20231201  37.560207  126.824142\n",
       "20231201  37.558311  126.826523\n",
       "20231201  37.558949  126.837173\n",
       "...             ...         ...\n",
       "20231201  37.527157  126.931900\n",
       "20231201  37.572563  126.816422\n",
       "20231201  37.552914  126.836571\n",
       "20231201  37.567284  126.818275\n",
       "20231201  37.529163  126.872749\n",
       "\n",
       "[151 rows x 2 columns]"
      ]
     },
     "execution_count": 103,
     "metadata": {},
     "output_type": "execute_result"
    }
   ],
   "source": [
    "# import streamlit as st\n",
    "# import pydeck as pdk\n",
    "# import pandas as pd\n",
    "# import numpy as np\n",
    "# import matplotlib\n",
    "# import matplotlib.pyplot as plt\n",
    "# import seaborn as sns\n",
    "# from tqdm import tqdm\n",
    "\n",
    "# file_path = './data/groupby_lat_dong_23년12월렌탈.csv'\n",
    "# df_rent_sum = pd.read_csv(file_path)\n",
    "# df_rent_sum['기준_날짜'] = df_rent_sum['기준_날짜'].astype('str')\n",
    "# df_rent_sum_date = df_rent_sum\n",
    "# df_rent_sum_date.set_index('기준_날짜', inplace=True)\n",
    "\n",
    "\n",
    "\n",
    "# top_ranking = df_rent_sum_date['20231201':'20231202'].groupby(by=['시작_대여소_동명'])\\\n",
    "#         .agg({'전체_건수':sum,'전체_이용_분':sum,'전체_이용_거리':sum})\\\n",
    "#         .sort_values(by=['전체_이용_거리','전체_이용_분','전체_건수'],ascending=False)\n",
    "# top_ranking.reset_index(inplace=True)    \n",
    "top_ranking.iloc[:5,:]['시작_대여소_동명'].values[0]\n",
    "cond = top_ranking.iloc[:5,:]['시작_대여소_동명'].values\n",
    "\n",
    "cond_TN = (df_rent_sum_date['20231201':'20231202']['시작_대여소_동명']=='가양1동') |\\\n",
    "          (df_rent_sum_date['20231201':'20231202']['시작_대여소_동명']=='여의동') |\\\n",
    "          (df_rent_sum_date['20231201':'20231202']['시작_대여소_동명']=='목1동') |\\\n",
    "          (df_rent_sum_date['20231201':'20231202']['시작_대여소_동명']=='발산1동') |\\\n",
    "          (df_rent_sum_date['20231201':'20231202']['시작_대여소_동명']=='방화1동')\n",
    "\n",
    "df_map_top = df_rent_sum_date['20231201':'20231202'].loc[cond_TN,['시작_대여소_lat','시작_대여소_lon']].drop_duplicates()\n",
    "df_map_top.rename(columns={'시작_대여소_lat':'lat','시작_대여소_lon':'lon'},inplace=True)\n",
    "df_map_top\n",
    "# df_rent_sum_date['20231201':'20231202'].loc[:,['시작_대여소_lat','시작_대여소_lon']]\n",
    "# top_ranking.loc[:,['시작_대여소_lat','시작_대여소_lon']]\n",
    "# top_ranking"
   ]
  },
  {
   "cell_type": "code",
   "execution_count": 71,
   "metadata": {},
   "outputs": [
    {
     "name": "stdout",
     "output_type": "stream",
     "text": [
      "20231201\n"
     ]
    }
   ],
   "source": [
    "sdate = '2023-12-01'\n",
    "print(sdate.replace('-',''))"
   ]
  },
  {
   "cell_type": "code",
   "execution_count": null,
   "metadata": {},
   "outputs": [],
   "source": [
    "# 수집된 정보 데이터 프레임 출력\n",
    "df_rent_tot = df_rent.loc[cond,['기준_날짜','시작_대여소_동명','시작_대여소명','종료_대여소명','전체_건수','전체_이용_분','전체_이용_거리']]\\\n",
    "        .sort_values(by=['기준_날짜','시작_대여소_동명','시작_대여소명','종료_대여소명'])\n",
    "\n",
    "\n",
    "# 차트를 출력하기 위해 동별 goupby\n",
    "df_rent_tot_group = df_rent_tot.groupby(by=['기준_날짜','시작_대여소_동명','시작_대여소명'])\\\n",
    "        .agg({'전체_건수':sum,'전체_이용_분':sum,'전체_이용_거리':sum})\\\n",
    "        .sort_values(by=['전체_건수','전체_이용_분','전체_이용_거리'],ascending=False)"
   ]
  },
  {
   "cell_type": "code",
   "execution_count": 24,
   "metadata": {},
   "outputs": [
    {
     "data": {
      "text/html": [
       "<div>\n",
       "<style scoped>\n",
       "    .dataframe tbody tr th:only-of-type {\n",
       "        vertical-align: middle;\n",
       "    }\n",
       "\n",
       "    .dataframe tbody tr th {\n",
       "        vertical-align: top;\n",
       "    }\n",
       "\n",
       "    .dataframe thead th {\n",
       "        text-align: right;\n",
       "    }\n",
       "</style>\n",
       "<table border=\"1\" class=\"dataframe\">\n",
       "  <thead>\n",
       "    <tr style=\"text-align: right;\">\n",
       "      <th></th>\n",
       "      <th>index</th>\n",
       "      <th>대여소_ID</th>\n",
       "      <th>주소1</th>\n",
       "      <th>주소2</th>\n",
       "      <th>lat</th>\n",
       "      <th>lon</th>\n",
       "    </tr>\n",
       "  </thead>\n",
       "  <tbody>\n",
       "    <tr>\n",
       "      <th>3190</th>\n",
       "      <td>3267</td>\n",
       "      <td>ST-1000</td>\n",
       "      <td>서울특별시 양천구 신정동 236</td>\n",
       "      <td>서부식자재마트 건너편</td>\n",
       "      <td>37.51038</td>\n",
       "      <td>126.866798</td>\n",
       "    </tr>\n",
       "  </tbody>\n",
       "</table>\n",
       "</div>"
      ],
      "text/plain": [
       "      index   대여소_ID                주소1          주소2       lat         lon\n",
       "3190   3267  ST-1000  서울특별시 양천구 신정동 236  서부식자재마트 건너편  37.51038  126.866798"
      ]
     },
     "execution_count": 24,
     "metadata": {},
     "output_type": "execute_result"
    }
   ],
   "source": [
    "cond = (df_master1['대여소_ID']=='ST-1000')\n",
    "df_master1.loc[cond,:]"
   ]
  },
  {
   "cell_type": "code",
   "execution_count": 31,
   "metadata": {},
   "outputs": [
    {
     "data": {
      "text/plain": [
       "ST-2031    2353\n",
       "ST-1718    1357\n",
       "ST-2045    1217\n",
       "ST-1065    1170\n",
       "ST-413     1142\n",
       "           ... \n",
       "ST-939        2\n",
       "ST-2665       2\n",
       "ST-1953       2\n",
       "ST-1601       2\n",
       "ST-380        2\n",
       "Name: 시작_대여소_ID, Length: 2722, dtype: int64"
      ]
     },
     "execution_count": 31,
     "metadata": {},
     "output_type": "execute_result"
    }
   ],
   "source": [
    "# df_master1.sort_values('대여소_ID',ascending=False)\n",
    "# df_master1['대여소_ID'].value_counts() : 3193\n",
    "# df_rent1['시작_대여소_ID'].value_counts()"
   ]
  },
  {
   "cell_type": "code",
   "execution_count": 11,
   "metadata": {},
   "outputs": [
    {
     "data": {
      "text/html": [
       "<div>\n",
       "<style scoped>\n",
       "    .dataframe tbody tr th:only-of-type {\n",
       "        vertical-align: middle;\n",
       "    }\n",
       "\n",
       "    .dataframe tbody tr th {\n",
       "        vertical-align: top;\n",
       "    }\n",
       "\n",
       "    .dataframe thead th {\n",
       "        text-align: right;\n",
       "    }\n",
       "</style>\n",
       "<table border=\"1\" class=\"dataframe\">\n",
       "  <thead>\n",
       "    <tr style=\"text-align: right;\">\n",
       "      <th></th>\n",
       "      <th>index</th>\n",
       "      <th>대여소_ID</th>\n",
       "      <th>주소1</th>\n",
       "      <th>주소2</th>\n",
       "      <th>lat</th>\n",
       "      <th>lon</th>\n",
       "    </tr>\n",
       "  </thead>\n",
       "  <tbody>\n",
       "  </tbody>\n",
       "</table>\n",
       "</div>"
      ],
      "text/plain": [
       "Empty DataFrame\n",
       "Columns: [index, 대여소_ID, 주소1, 주소2, lat, lon]\n",
       "Index: []"
      ]
     },
     "execution_count": 11,
     "metadata": {},
     "output_type": "execute_result"
    }
   ],
   "source": [
    "df_master1[df_master1['대여소_ID'].duplicated()]"
   ]
  },
  {
   "cell_type": "code",
   "execution_count": null,
   "metadata": {},
   "outputs": [],
   "source": []
  },
  {
   "cell_type": "code",
   "execution_count": null,
   "metadata": {},
   "outputs": [],
   "source": []
  },
  {
   "cell_type": "code",
   "execution_count": null,
   "metadata": {},
   "outputs": [],
   "source": [
    "cond = (df_rent['시작_대여소_동명']=='신정3동')\n",
    "df_rent.loc[cond,'시작_대여소_ID'].value_counts()"
   ]
  }
 ],
 "metadata": {
  "kernelspec": {
   "display_name": "st",
   "language": "python",
   "name": "conda"
  },
  "language_info": {
   "codemirror_mode": {
    "name": "ipython",
    "version": 3
   },
   "file_extension": ".py",
   "mimetype": "text/x-python",
   "name": "python",
   "nbconvert_exporter": "python",
   "pygments_lexer": "ipython3",
   "version": "3.7.12"
  }
 },
 "nbformat": 4,
 "nbformat_minor": 2
}
