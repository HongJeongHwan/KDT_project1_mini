{
 "cells": [
  {
   "cell_type": "code",
   "execution_count": 44,
   "metadata": {},
   "outputs": [
    {
     "name": "stdout",
     "output_type": "stream",
     "text": [
      "('선택안함', 'ST-2031', 'ST-702', 'ST-1546', 'ST-413', 'ST-1065', 'ST-1121', 'ST-891', 'ST-2017', 'ST-2820', 'ST-2011')\n"
     ]
    }
   ],
   "source": [
    "import numpy as np\n",
    "import pandas as pd\n",
    "import streamlit as st\n",
    "\n",
    "# 파일불러오기\n",
    "file_path = 'tpss_bcycl_od_statnhm_20240106.csv'\n",
    "df_rent1 = pd.read_csv(file_path,encoding='cp949')\n",
    "\n",
    "# 조회조건 설정 =======================================================================\n",
    "\n",
    "# 시작대여소 : 사용량이 많은 순으로 10개 보여줌\n",
    "st_rent_id = df_rent1['시작_대여소_ID'].value_counts(ascending=False)[:10].index.to_list()\n",
    "st_rent_id.insert(0,'선택안함')\n",
    "st_rent_id = tuple(st_rent_id)\n",
    "print(st_rent_id)\n",
    "\n",
    "# list_rent = []\n",
    "# for id in s_rent:\n",
    "#     list_rent.append(id)\n",
    "\n",
    "# tpl_rent = tuple(s_rent)\n",
    "# # print(tpl_rent)\n",
    "\n",
    "\n",
    "# cond = df_rent1['시작_대여소_ID']==selected_id\n",
    "# print(df_rent1.loc[cond,:])\n",
    "\n"
   ]
  },
  {
   "cell_type": "code",
   "execution_count": 13,
   "metadata": {},
   "outputs": [
    {
     "name": "stdout",
     "output_type": "stream",
     "text": [
      "[2, 9, 3]\n",
      "['a', 2, 9, 3]\n"
     ]
    }
   ],
   "source": [
    "list = [2, 9, 3]\n",
    "print(list)\n",
    "list.insert(0, 'a')\n",
    "print(list)\n"
   ]
  },
  {
   "cell_type": "code",
   "execution_count": 45,
   "metadata": {},
   "outputs": [
    {
     "name": "stdout",
     "output_type": "stream",
     "text": [
      "<class 'pandas.core.frame.DataFrame'>\n",
      "RangeIndex: 112742 entries, 0 to 112741\n",
      "Data columns (total 10 columns):\n",
      " #   Column     Non-Null Count   Dtype \n",
      "---  ------     --------------   ----- \n",
      " 0   기준_날짜      112742 non-null  int64 \n",
      " 1   집계_기준      112742 non-null  object\n",
      " 2   기준_시간대     112742 non-null  int64 \n",
      " 3   시작_대여소_ID  112742 non-null  object\n",
      " 4   시작_대여소명    112742 non-null  object\n",
      " 5   종료_대여소_ID  112742 non-null  object\n",
      " 6   종료_대여소명    112287 non-null  object\n",
      " 7   전체_건수      112742 non-null  int64 \n",
      " 8   전체_이용_분    112742 non-null  int64 \n",
      " 9   전체_이용_거리   112742 non-null  int64 \n",
      "dtypes: int64(5), object(5)\n",
      "memory usage: 8.6+ MB\n"
     ]
    }
   ],
   "source": [
    "df_rent1.info()"
   ]
  },
  {
   "cell_type": "code",
   "execution_count": 55,
   "metadata": {},
   "outputs": [
    {
     "ename": "SyntaxError",
     "evalue": "invalid syntax (899690823.py, line 3)",
     "output_type": "error",
     "traceback": [
      "\u001b[1;36m  File \u001b[1;32m\"C:\\Users\\june\\AppData\\Local\\Temp\\ipykernel_21988\\899690823.py\"\u001b[1;36m, line \u001b[1;32m3\u001b[0m\n\u001b[1;33m    df_rent1['기준_날짜'].dt.strftime(%Y-%m-%d)\u001b[0m\n\u001b[1;37m                                  ^\u001b[0m\n\u001b[1;31mSyntaxError\u001b[0m\u001b[1;31m:\u001b[0m invalid syntax\n"
     ]
    }
   ],
   "source": [
    "df_rent1['기준_날짜'] = df_rent1['기준_날짜'].astype('str')\n",
    "df_rent1['기준_날짜'] = pd.to_datetime(df_rent1['기준_날짜'], format='%Y-%m-%d').dt.date\n",
    "df_rent1['기준_날짜'].dt.strftime(%Y-%m-%d)"
   ]
  },
  {
   "cell_type": "code",
   "execution_count": 106,
   "metadata": {},
   "outputs": [
    {
     "name": "stdout",
     "output_type": "stream",
     "text": [
      "           기준_날짜 집계_기준  기준_시간대 시작_대여소_ID     시작_대여소명 종료_대여소_ID     종료_대여소명  \\\n",
      "0       20240104  출발시간       0   ST-1014  신정3동_101_1    ST-676  고척2동_035_1   \n",
      "1       20240104  출발시간       0   ST-1017   목5동_059_1    ST-310   목4동_047_1   \n",
      "2       20240104  출발시간       0   ST-1055   강일동_001_1   ST-2744   강일동_001_5   \n",
      "3       20240104  출발시간       0   ST-1082   장지동_019_1   ST-2599   장지동_012_3   \n",
      "4       20240104  출발시간       0   ST-1092  풍납2동_026_1    ST-502  성내1동_007_1   \n",
      "...          ...   ...     ...       ...         ...       ...         ...   \n",
      "112737  20240106  도착시간    2355    ST-884   중앙동_009_1   ST-1548   은천동_065_1   \n",
      "112738  20240106  도착시간    2355    ST-913  월계3동_039_1   ST-2708  월계2동_025_1   \n",
      "112739  20240106  도착시간    2355    ST-919  고척1동_006_1   ST-1227  개봉1동_050_1   \n",
      "112740  20240106  도착시간    2355     ST-93   상암동_026_4     ST-43   신촌동_030_2   \n",
      "112741  20240106  도착시간    2355    ST-950   조원동_032_1    ST-709   미성동_014_1   \n",
      "\n",
      "        전체_건수  전체_이용_분  전체_이용_거리  \n",
      "0           1        6      2320  \n",
      "1           1        6       909  \n",
      "2           1       93     12860  \n",
      "3           1        5       910  \n",
      "4           1        5      1063  \n",
      "...       ...      ...       ...  \n",
      "112737      1        6       960  \n",
      "112738      1        9      1569  \n",
      "112739      1        6       353  \n",
      "112740      1       37      4579  \n",
      "112741      1       11      1878  \n",
      "\n",
      "[481182 rows x 10 columns]\n"
     ]
    }
   ],
   "source": [
    "file_path1_4 = 'tpss_bcycl_od_statnhm_20240104.csv'\n",
    "file_path1_5 = 'tpss_bcycl_od_statnhm_20240105.csv'\n",
    "file_path1_6 = 'tpss_bcycl_od_statnhm_20240106.csv'\n",
    "\n",
    "df_rent1_4 = pd.read_csv(file_path1_4,encoding='cp949')\n",
    "df_rent1_5 = pd.read_csv(file_path1_5,encoding='cp949')\n",
    "df_rent1_6 = pd.read_csv(file_path1_6,encoding='cp949')\n",
    "\n",
    "# 전처리\n",
    "\n",
    "# 날짜별 데이터 합치기\n",
    "df_rent1 = pd.concat([df_rent1_4,df_rent1_5,df_rent1_6],axis=0)\n",
    "print(df_rent1)\n"
   ]
  },
  {
   "cell_type": "code",
   "execution_count": 110,
   "metadata": {},
   "outputs": [
    {
     "name": "stdout",
     "output_type": "stream",
     "text": [
      "<class 'pandas.core.frame.DataFrame'>\n",
      "Int64Index: 481182 entries, 0 to 112741\n",
      "Data columns (total 10 columns):\n",
      " #   Column     Non-Null Count   Dtype \n",
      "---  ------     --------------   ----- \n",
      " 0   기준_날짜      481182 non-null  object\n",
      " 1   집계_기준      481182 non-null  object\n",
      " 2   기준_시간대     481182 non-null  int64 \n",
      " 3   시작_대여소_ID  481182 non-null  object\n",
      " 4   시작_대여소명    481182 non-null  object\n",
      " 5   종료_대여소_ID  481182 non-null  object\n",
      " 6   종료_대여소명    479319 non-null  object\n",
      " 7   전체_건수      481182 non-null  int64 \n",
      " 8   전체_이용_분    481182 non-null  int64 \n",
      " 9   전체_이용_거리   481182 non-null  int64 \n",
      "dtypes: int64(4), object(6)\n",
      "memory usage: 40.4+ MB\n"
     ]
    }
   ],
   "source": [
    "df_rent1.info()"
   ]
  },
  {
   "cell_type": "code",
   "execution_count": 109,
   "metadata": {},
   "outputs": [
    {
     "data": {
      "text/html": [
       "<div>\n",
       "<style scoped>\n",
       "    .dataframe tbody tr th:only-of-type {\n",
       "        vertical-align: middle;\n",
       "    }\n",
       "\n",
       "    .dataframe tbody tr th {\n",
       "        vertical-align: top;\n",
       "    }\n",
       "\n",
       "    .dataframe thead th {\n",
       "        text-align: right;\n",
       "    }\n",
       "</style>\n",
       "<table border=\"1\" class=\"dataframe\">\n",
       "  <thead>\n",
       "    <tr style=\"text-align: right;\">\n",
       "      <th></th>\n",
       "      <th>기준_날짜</th>\n",
       "      <th>집계_기준</th>\n",
       "      <th>기준_시간대</th>\n",
       "      <th>시작_대여소_ID</th>\n",
       "      <th>시작_대여소명</th>\n",
       "      <th>종료_대여소_ID</th>\n",
       "      <th>종료_대여소명</th>\n",
       "      <th>전체_건수</th>\n",
       "      <th>전체_이용_분</th>\n",
       "      <th>전체_이용_거리</th>\n",
       "    </tr>\n",
       "  </thead>\n",
       "  <tbody>\n",
       "    <tr>\n",
       "      <th>0</th>\n",
       "      <td>2024-01-04</td>\n",
       "      <td>출발시간</td>\n",
       "      <td>0</td>\n",
       "      <td>ST-1014</td>\n",
       "      <td>신정3동_101_1</td>\n",
       "      <td>ST-676</td>\n",
       "      <td>고척2동_035_1</td>\n",
       "      <td>1</td>\n",
       "      <td>6</td>\n",
       "      <td>2320</td>\n",
       "    </tr>\n",
       "    <tr>\n",
       "      <th>1</th>\n",
       "      <td>2024-01-04</td>\n",
       "      <td>출발시간</td>\n",
       "      <td>0</td>\n",
       "      <td>ST-1017</td>\n",
       "      <td>목5동_059_1</td>\n",
       "      <td>ST-310</td>\n",
       "      <td>목4동_047_1</td>\n",
       "      <td>1</td>\n",
       "      <td>6</td>\n",
       "      <td>909</td>\n",
       "    </tr>\n",
       "    <tr>\n",
       "      <th>2</th>\n",
       "      <td>2024-01-04</td>\n",
       "      <td>출발시간</td>\n",
       "      <td>0</td>\n",
       "      <td>ST-1055</td>\n",
       "      <td>강일동_001_1</td>\n",
       "      <td>ST-2744</td>\n",
       "      <td>강일동_001_5</td>\n",
       "      <td>1</td>\n",
       "      <td>93</td>\n",
       "      <td>12860</td>\n",
       "    </tr>\n",
       "    <tr>\n",
       "      <th>3</th>\n",
       "      <td>2024-01-04</td>\n",
       "      <td>출발시간</td>\n",
       "      <td>0</td>\n",
       "      <td>ST-1082</td>\n",
       "      <td>장지동_019_1</td>\n",
       "      <td>ST-2599</td>\n",
       "      <td>장지동_012_3</td>\n",
       "      <td>1</td>\n",
       "      <td>5</td>\n",
       "      <td>910</td>\n",
       "    </tr>\n",
       "    <tr>\n",
       "      <th>4</th>\n",
       "      <td>2024-01-04</td>\n",
       "      <td>출발시간</td>\n",
       "      <td>0</td>\n",
       "      <td>ST-1092</td>\n",
       "      <td>풍납2동_026_1</td>\n",
       "      <td>ST-502</td>\n",
       "      <td>성내1동_007_1</td>\n",
       "      <td>1</td>\n",
       "      <td>5</td>\n",
       "      <td>1063</td>\n",
       "    </tr>\n",
       "    <tr>\n",
       "      <th>...</th>\n",
       "      <td>...</td>\n",
       "      <td>...</td>\n",
       "      <td>...</td>\n",
       "      <td>...</td>\n",
       "      <td>...</td>\n",
       "      <td>...</td>\n",
       "      <td>...</td>\n",
       "      <td>...</td>\n",
       "      <td>...</td>\n",
       "      <td>...</td>\n",
       "    </tr>\n",
       "    <tr>\n",
       "      <th>112737</th>\n",
       "      <td>2024-01-06</td>\n",
       "      <td>도착시간</td>\n",
       "      <td>2355</td>\n",
       "      <td>ST-884</td>\n",
       "      <td>중앙동_009_1</td>\n",
       "      <td>ST-1548</td>\n",
       "      <td>은천동_065_1</td>\n",
       "      <td>1</td>\n",
       "      <td>6</td>\n",
       "      <td>960</td>\n",
       "    </tr>\n",
       "    <tr>\n",
       "      <th>112738</th>\n",
       "      <td>2024-01-06</td>\n",
       "      <td>도착시간</td>\n",
       "      <td>2355</td>\n",
       "      <td>ST-913</td>\n",
       "      <td>월계3동_039_1</td>\n",
       "      <td>ST-2708</td>\n",
       "      <td>월계2동_025_1</td>\n",
       "      <td>1</td>\n",
       "      <td>9</td>\n",
       "      <td>1569</td>\n",
       "    </tr>\n",
       "    <tr>\n",
       "      <th>112739</th>\n",
       "      <td>2024-01-06</td>\n",
       "      <td>도착시간</td>\n",
       "      <td>2355</td>\n",
       "      <td>ST-919</td>\n",
       "      <td>고척1동_006_1</td>\n",
       "      <td>ST-1227</td>\n",
       "      <td>개봉1동_050_1</td>\n",
       "      <td>1</td>\n",
       "      <td>6</td>\n",
       "      <td>353</td>\n",
       "    </tr>\n",
       "    <tr>\n",
       "      <th>112740</th>\n",
       "      <td>2024-01-06</td>\n",
       "      <td>도착시간</td>\n",
       "      <td>2355</td>\n",
       "      <td>ST-93</td>\n",
       "      <td>상암동_026_4</td>\n",
       "      <td>ST-43</td>\n",
       "      <td>신촌동_030_2</td>\n",
       "      <td>1</td>\n",
       "      <td>37</td>\n",
       "      <td>4579</td>\n",
       "    </tr>\n",
       "    <tr>\n",
       "      <th>112741</th>\n",
       "      <td>2024-01-06</td>\n",
       "      <td>도착시간</td>\n",
       "      <td>2355</td>\n",
       "      <td>ST-950</td>\n",
       "      <td>조원동_032_1</td>\n",
       "      <td>ST-709</td>\n",
       "      <td>미성동_014_1</td>\n",
       "      <td>1</td>\n",
       "      <td>11</td>\n",
       "      <td>1878</td>\n",
       "    </tr>\n",
       "  </tbody>\n",
       "</table>\n",
       "<p>481182 rows × 10 columns</p>\n",
       "</div>"
      ],
      "text/plain": [
       "             기준_날짜 집계_기준  기준_시간대 시작_대여소_ID     시작_대여소명 종료_대여소_ID     종료_대여소명  \\\n",
       "0       2024-01-04  출발시간       0   ST-1014  신정3동_101_1    ST-676  고척2동_035_1   \n",
       "1       2024-01-04  출발시간       0   ST-1017   목5동_059_1    ST-310   목4동_047_1   \n",
       "2       2024-01-04  출발시간       0   ST-1055   강일동_001_1   ST-2744   강일동_001_5   \n",
       "3       2024-01-04  출발시간       0   ST-1082   장지동_019_1   ST-2599   장지동_012_3   \n",
       "4       2024-01-04  출발시간       0   ST-1092  풍납2동_026_1    ST-502  성내1동_007_1   \n",
       "...            ...   ...     ...       ...         ...       ...         ...   \n",
       "112737  2024-01-06  도착시간    2355    ST-884   중앙동_009_1   ST-1548   은천동_065_1   \n",
       "112738  2024-01-06  도착시간    2355    ST-913  월계3동_039_1   ST-2708  월계2동_025_1   \n",
       "112739  2024-01-06  도착시간    2355    ST-919  고척1동_006_1   ST-1227  개봉1동_050_1   \n",
       "112740  2024-01-06  도착시간    2355     ST-93   상암동_026_4     ST-43   신촌동_030_2   \n",
       "112741  2024-01-06  도착시간    2355    ST-950   조원동_032_1    ST-709   미성동_014_1   \n",
       "\n",
       "        전체_건수  전체_이용_분  전체_이용_거리  \n",
       "0           1        6      2320  \n",
       "1           1        6       909  \n",
       "2           1       93     12860  \n",
       "3           1        5       910  \n",
       "4           1        5      1063  \n",
       "...       ...      ...       ...  \n",
       "112737      1        6       960  \n",
       "112738      1        9      1569  \n",
       "112739      1        6       353  \n",
       "112740      1       37      4579  \n",
       "112741      1       11      1878  \n",
       "\n",
       "[481182 rows x 10 columns]"
      ]
     },
     "execution_count": 109,
     "metadata": {},
     "output_type": "execute_result"
    }
   ],
   "source": [
    "df_rent1"
   ]
  },
  {
   "cell_type": "code",
   "execution_count": 122,
   "metadata": {},
   "outputs": [
    {
     "name": "stdout",
     "output_type": "stream",
     "text": [
      "Empty DataFrame\n",
      "Columns: [기준_날짜, 집계_기준, 기준_시간대, 시작_대여소_ID, 시작_대여소명, 종료_대여소_ID, 종료_대여소명, 전체_건수, 전체_이용_분, 전체_이용_거리]\n",
      "Index: []\n"
     ]
    }
   ],
   "source": [
    "df_rent1['기준_날짜'] = df_rent1['기준_날짜'].astype('str')\n",
    "df_rent1['기준_날짜'] = pd.to_datetime(df_rent1['기준_날짜'], format='%Y-%m-%d')\n",
    "# cond = df_rent1['기준_날짜']=='2024-01-04'\n",
    "cond = (df_rent1['기준_날짜']=='2024-01-05 00:00:00') & (df_rent1['시작_대여소_ID']=='ST-2031') & (df_rent1['종료_대여소_ID']=='ST-2031')\n",
    "cond = (df_rent1['기준_날짜']=='2024-01-05 00:00:00') & (df_rent1['시작_대여소_ID']=='ST-2031') & (df_rent1['종료_대여소_ID']=='ST-2045')\n",
    "print(df_rent1.loc[cond,:])\n",
    "# df_rent1"
   ]
  }
 ],
 "metadata": {
  "kernelspec": {
   "display_name": "st",
   "language": "python",
   "name": "python3"
  },
  "language_info": {
   "codemirror_mode": {
    "name": "ipython",
    "version": 3
   },
   "file_extension": ".py",
   "mimetype": "text/x-python",
   "name": "python",
   "nbconvert_exporter": "python",
   "pygments_lexer": "ipython3",
   "version": "3.7.12"
  }
 },
 "nbformat": 4,
 "nbformat_minor": 2
}
