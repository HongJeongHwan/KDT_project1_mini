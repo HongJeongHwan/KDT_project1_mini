{
 "cells": [
  {
   "cell_type": "code",
   "execution_count": 24,
   "metadata": {},
   "outputs": [
    {
     "name": "stdout",
     "output_type": "stream",
     "text": [
      "ST-2031\n"
     ]
    },
    {
     "ename": "NameError",
     "evalue": "name 'selected_id' is not defined",
     "output_type": "error",
     "traceback": [
      "\u001b[1;31m---------------------------------------------------------------------------\u001b[0m",
      "\u001b[1;31mNameError\u001b[0m                                 Traceback (most recent call last)",
      "Cell \u001b[1;32mIn[24], line 22\u001b[0m\n\u001b[0;32m     18\u001b[0m tpl_rent \u001b[38;5;241m=\u001b[39m \u001b[38;5;28mtuple\u001b[39m(s_rent)\n\u001b[0;32m     19\u001b[0m \u001b[38;5;66;03m# print(tpl_rent)\u001b[39;00m\n\u001b[1;32m---> 22\u001b[0m cond \u001b[38;5;241m=\u001b[39m df_rent1[\u001b[38;5;124m'\u001b[39m\u001b[38;5;124m시작_대여소_ID\u001b[39m\u001b[38;5;124m'\u001b[39m]\u001b[38;5;241m==\u001b[39m\u001b[43mselected_id\u001b[49m\n\u001b[0;32m     23\u001b[0m \u001b[38;5;28mprint\u001b[39m(df_rent1\u001b[38;5;241m.\u001b[39mloc[cond,:])\n",
      "\u001b[1;31mNameError\u001b[0m: name 'selected_id' is not defined"
     ]
    }
   ],
   "source": [
    "import numpy as np\n",
    "import pandas as pd\n",
    "import streamlit as st\n",
    "\n",
    "file_path = 'tpss_bcycl_od_statnhm_20240106.csv'\n",
    "df_rent1 = pd.read_csv(file_path,encoding='cp949')\n",
    "\n",
    "s_rent = df_rent1['시작_대여소_ID'].value_counts(ascending=False)[:10].index\n",
    "print(s_rent[0])\n",
    "\n",
    "arr_rent = np.array(s_rent)\n",
    "# print(arr_rent[1])\n",
    "\n",
    "# list_rent = []\n",
    "# for id in s_rent:\n",
    "#     list_rent.append(id)\n",
    "\n",
    "tpl_rent = tuple(s_rent)\n",
    "# print(tpl_rent)\n",
    "\n",
    "\n",
    "cond = df_rent1['시작_대여소_ID']==selected_id\n",
    "print(df_rent1.loc[cond,:])\n",
    "\n"
   ]
  }
 ],
 "metadata": {
  "kernelspec": {
   "display_name": "st",
   "language": "python",
   "name": "conda"
  },
  "language_info": {
   "codemirror_mode": {
    "name": "ipython",
    "version": 3
   },
   "file_extension": ".py",
   "mimetype": "text/x-python",
   "name": "python",
   "nbconvert_exporter": "python",
   "pygments_lexer": "ipython3",
   "version": "3.10.13"
  }
 },
 "nbformat": 4,
 "nbformat_minor": 2
}
